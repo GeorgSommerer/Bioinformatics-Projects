{
 "cells": [
  {
   "cell_type": "code",
   "execution_count": 2,
   "id": "c83e5d58-8101-4cc6-927d-6924e333548b",
   "metadata": {},
   "outputs": [],
   "source": [
    "import pandas as pd\n",
    "import numpy as np\n",
    "from tqdm import tqdm"
   ]
  },
  {
   "cell_type": "code",
   "execution_count": 5,
   "id": "6ab83ddb-2381-4336-b814-5fd066a99d0e",
   "metadata": {},
   "outputs": [],
   "source": [
    "def write_ROI(metric):\n",
    "    bed_1 = pd.read_csv(f\"CHG034730/outputs/CHG034730_{metric}_lowest_scores.bed\", sep=\"\\t\", header=None)\n",
    "    bed_2 = pd.read_csv(f\"CHG034731/outputs/CHG034731_{metric}_lowest_scores.bed\", sep=\"\\t\", header=None)\n",
    "    metrics = {\"Cosine_Similarity\":5,\"Dot_Product\":6}\n",
    "    with open(f\"ROI\\roi_{metric}.bed\",\"w+\") as f:\n",
    "        f.write(f\"Chromosome\\tPos_6mer\\tIndex_1\\t{metric}_1\\tIndex_2\\t{metric}_2\\n\")\n",
    "        for indexA, rowA in tqdm(bed_1.iterrows(),total=bed_1.shape[0]):\n",
    "            for indexL, rowL in bed_2.iterrows():\n",
    "                if rowA[0] == rowL[0] and abs(rowA[4]-rowL[4])<1000:\n",
    "                    f.write(f\"{rowA[0]}\\t{rowA[4]}\\t{indexA}\\t{rowA[metrics[metric]]}\\t{indexL}\\t{rowL[metrics[metric]]}\\n\")        \n",
    "    f.close()"
   ]
  },
  {
   "cell_type": "code",
   "execution_count": 3,
   "id": "fd77013e-29b2-4b1f-afaf-883a22d591ad",
   "metadata": {},
   "outputs": [],
   "source": [
    "def read_ROI(metric):\n",
    "    roi_df = pd.read_csv(f\"ROI_{metric}.bed\",sep=\"\\t\",header=0)\n",
    "    roi_df[\"Avg_Index\"]=(roi_df[\"Index_1\"]+roi_df[\"Index_2\"])/2\n",
    "    roi_df = roi_df.sort_values(by=\"Avg_Index\").reset_index(drop=True)\n",
    "    #roi_df = roi_df[(roi_df[f\"{metric}_1\"]+roi_df[f\"{metric}_2\"])/2<-0.10]\n",
    "    return roi_df"
   ]
  },
  {
   "cell_type": "code",
   "execution_count": 4,
   "id": "1d88b271-c436-446f-9bf0-83dd2f83620d",
   "metadata": {},
   "outputs": [
    {
     "name": "stderr",
     "output_type": "stream",
     "text": [
      "100%|██████████| 1000/1000 [00:48<00:00, 20.65it/s]\n"
     ]
    }
   ],
   "source": [
    "#write_ROI(\"Cosine_Similarity\")"
   ]
  },
  {
   "cell_type": "code",
   "execution_count": 5,
   "id": "6cd2006d-268d-496f-8341-6bacadf965c7",
   "metadata": {},
   "outputs": [
    {
     "name": "stderr",
     "output_type": "stream",
     "text": [
      "100%|██████████| 1000/1000 [00:52<00:00, 18.97it/s]\n"
     ]
    }
   ],
   "source": [
    "#write_ROI(\"Dot_Product\")"
   ]
  },
  {
   "cell_type": "code",
   "execution_count": 9,
   "id": "d8283473-2aaa-4578-9bb6-95a4d193a124",
   "metadata": {},
   "outputs": [],
   "source": [
    "roi_cos = read_ROI(\"Cosine_Similarity\")\n",
    "roi_dot = read_ROI(\"Dot_Product\")"
   ]
  },
  {
   "cell_type": "code",
   "execution_count": 1,
   "id": "a683ee96-d675-4fc6-ac74-c91ad8585146",
   "metadata": {},
   "outputs": [
    {
     "ename": "NameError",
     "evalue": "name 'roi_cos' is not defined",
     "output_type": "error",
     "traceback": [
      "\u001b[0;31m---------------------------------------------------------------------------\u001b[0m",
      "\u001b[0;31mNameError\u001b[0m                                 Traceback (most recent call last)",
      "Cell \u001b[0;32mIn[1], line 1\u001b[0m\n\u001b[0;32m----> 1\u001b[0m display(\u001b[43mroi_cos\u001b[49m)\n\u001b[1;32m      2\u001b[0m display(roi_dot)\n",
      "\u001b[0;31mNameError\u001b[0m: name 'roi_cos' is not defined"
     ]
    }
   ],
   "source": [
    "display(roi_cos)\n",
    "display(roi_dot)"
   ]
  },
  {
   "cell_type": "code",
   "execution_count": 12,
   "id": "9707c20c-1805-4d71-9573-ff2c21b86177",
   "metadata": {},
   "outputs": [
    {
     "name": "stderr",
     "output_type": "stream",
     "text": [
      "100%|██████████| 98/98 [00:00<00:00, 179.80it/s]"
     ]
    },
    {
     "name": "stdout",
     "output_type": "stream",
     "text": [
      "(90, 2)\n",
      "cosine similarities not among the lowest dot products:  [53 75 79 81 88 89 95 96]\n",
      "dot products not among the lowest cosine similarities:  [59 76 78 80 86 88 90 95 96]\n"
     ]
    },
    {
     "name": "stderr",
     "output_type": "stream",
     "text": [
      "\n"
     ]
    }
   ],
   "source": [
    "#Check how many low dot products do not have low cosine similarities and vice versa\n",
    "indices = np.empty((0,2))\n",
    "for indexC, rowC in tqdm(roi_cos.iterrows(),total=roi_cos.shape[0]):\n",
    "    for indexD, rowD in roi_dot.iterrows():\n",
    "        if rowC[\"Pos_6mer\"]==rowD[\"Pos_6mer\"]:\n",
    "            indices = np.vstack((indices, np.array([indexC,indexD])))\n",
    "print(indices.shape)\n",
    "print(\"cosine similarities not among the lowest dot products: \",np.setdiff1d(np.arange(0,roi_cos.shape[0]),indices[:,0]))\n",
    "print(\"dot products not among the lowest cosine similarities: \",np.setdiff1d(np.arange(0,roi_cos.shape[0]),indices[:,1])) #In both cases: few entries, none of the very lowest -> all good"
   ]
  },
  {
   "cell_type": "code",
   "execution_count": null,
   "id": "c67a8d89-7eb0-4e1c-add0-618ec1521c2b",
   "metadata": {},
   "outputs": [],
   "source": []
  }
 ],
 "metadata": {
  "kernelspec": {
   "display_name": "Python 3 (ipykernel)",
   "language": "python",
   "name": "python3"
  },
  "language_info": {
   "codemirror_mode": {
    "name": "ipython",
    "version": 3
   },
   "file_extension": ".py",
   "mimetype": "text/x-python",
   "name": "python",
   "nbconvert_exporter": "python",
   "pygments_lexer": "ipython3",
   "version": "3.10.12"
  }
 },
 "nbformat": 4,
 "nbformat_minor": 5
}
